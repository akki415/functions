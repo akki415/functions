{
  "nbformat": 4,
  "nbformat_minor": 0,
  "metadata": {
    "colab": {
      "provenance": []
    },
    "kernelspec": {
      "name": "python3",
      "display_name": "Python 3"
    },
    "language_info": {
      "name": "python"
    }
  },
  "cells": [
    {
      "cell_type": "code",
      "execution_count": null,
      "metadata": {
        "id": "JysA4SAY4ySA"
      },
      "outputs": [],
      "source": []
    },
    {
      "cell_type": "markdown",
      "source": [
        "# Functions\n"
      ],
      "metadata": {
        "id": "WBCg5vnF402A"
      }
    },
    {
      "cell_type": "markdown",
      "source": [
        "ques_1: __What is the difference between a function and a method in python?__                                                                                  \n",
        "         --> A function is a block of code that can be executed just by calling with it's name, while a method is a function that is associated with a class and need to use either an object name or class name and a dot operator for it's execution.\n",
        "\n"
      ],
      "metadata": {
        "id": "0_p1cVYz_pxP"
      }
    },
    {
      "cell_type": "markdown",
      "source": [
        "Ques_2: __Explain the concept of function arguments and parameters in Python?__      \n",
        "         --> Parameters are variables defined in a function declaration. This act as placeholders for the values that will be passed to the function.  While, Arguments are the actual values that you pass to the function when you call it. These values replace the parameters defined in the function.\n",
        "\n",
        "      example:def expo(a,b):\n",
        "                   print(a**b)\n",
        "                   expo(1,2)     here: a,b are parameters and 1,2 are arguments                                                    "
      ],
      "metadata": {
        "id": "XnT-s2rVBqD_"
      }
    },
    {
      "cell_type": "markdown",
      "source": [
        "Ques_3: __What are the different ways to define and call a function in python?__                                                                                                                                                                                                                                                      -->In Python, you can define a function using the def keyword, and    call it from anywhere in the program. You can also pass different types of arguments to a function.\n",
        "       \n",
        "       example: def function_name(parameters):                                  \n",
        "                     #working inside of function\n",
        "\n",
        "                    function_name(arguments) #calling a function"
      ],
      "metadata": {
        "id": "Lt6d19yaEctc"
      }
    },
    {
      "cell_type": "markdown",
      "source": [
        "Ques_4: __What is the purpose of the return statement in a Python function?__      \n",
        "       -->A return statement is used to end the execution of the function and it “returns” the value of the expression following the return keyword also, The statements after the return statements are not executed.\n",
        "\n",
        "\n",
        "     example: def sum_of_two_values(a,b):\n",
        "                return a+b\n",
        "\n",
        "               sum_of_two_values(1,8)\n",
        "                 "
      ],
      "metadata": {
        "id": "JhjGBBJsG3LW"
      }
    },
    {
      "cell_type": "markdown",
      "source": [
        "Ques_5: __What are iterators in Python and how do they differ from iterables?__      \n",
        "       -->iterator is an object, which is used to iterate over an iterable object using the next() method. Iterators have the next() method, which returns the next item of the object.\n",
        "\n",
        "     example: string = \"akash\"\n",
        "              str = iter(string)  \n",
        "\n",
        "              print(next(str)) # will give 'a'\n",
        "              print(next(str)) # will give 'k'\n",
        "              print(next(str)) # will give 'a'"
      ],
      "metadata": {
        "id": "hJyAxpizIohu"
      }
    },
    {
      "cell_type": "markdown",
      "source": [
        "Ques_6: __Explain the concept of generators in Python and how they are defined?__                                                                              \n",
        "          -->A generator function is a special type of function that returns an iterator object. Instead of using return to send back a single value, generator functions use yield to produce a series of results one by one.\n",
        "\n",
        "       example: def generator_function(n):\n",
        "                cnt = 1\n",
        "                while cnt <= n:\n",
        "                yield cnt   # using yield instead of return\n",
        "                cnt += 1\n",
        "\n",
        "        generator_function(5)   "
      ],
      "metadata": {
        "id": "83jOPp-gKHMi"
      }
    },
    {
      "cell_type": "markdown",
      "source": [
        "Ques_7: __What are the advantages of using generators over regular functions?__  \n",
        "         -->A generator function does not return its results all at once Instead, it yields its result one by one, each time it is called i.e give multile values with multiple iterations. While a regular function does return its results all at once i.e they returns a single value.\n",
        "\n",
        "\n",
        "       example: def generator_function():\n",
        "                    yield     # give multile values with multiple iterations\n",
        "\n",
        "                def regular_function():\n",
        "                    return    # they returns a single value"
      ],
      "metadata": {
        "id": "ohWj7opfMnCD"
      }
    },
    {
      "cell_type": "markdown",
      "source": [
        "Ques_8: __What is a lambda function in Python and when is it typically used?__   \n",
        "        -->A lambda function is a small anonymous function which can take any number of arguments, but can only have one expression. They are often used when a full function is not required or is used for simple, short-lived operations.\n",
        "\n",
        "      example: add = lambda a, b: a + b\n",
        "                print(add(5,10))    # will give result = 15\n",
        "\n"
      ],
      "metadata": {
        "id": "g88bCJmlO6F9"
      }
    },
    {
      "cell_type": "markdown",
      "source": [
        "Ques_9: __Explain the purpose and usage of the map() function in Python?__       \n",
        "        -->Purpose of map function is to apply a single transformation function to all the elements in an iterable. IT takes a function and a iterable object for execution i.e map function in Python applies a function to each item in an iterable, like a list or tuple.\n",
        "\n",
        "\n",
        "       example: Square_fun = lambda a: a**2\n",
        "\n",
        "                print(list(map(square_fun, [2, 4, 5, 6]))) # result => [4, 16, 25, 36]\n"
      ],
      "metadata": {
        "id": "qrADJTNFQzT3"
      }
    },
    {
      "cell_type": "markdown",
      "source": [
        "Ques_10: __What is the difference between map(), reduce(), and filter() functions in Python?__                                                           \n",
        "          --> filter() function in Python filters elements from an iterable based on a given condition or function and returns a new iterable with the filtered elements. SYNTAX=> filter(function, iterables)                                          \n",
        "          --> map() function is to apply a single transformation function to all the elements in an iterable. SYNTAX=> map(function, iterables)     \n",
        "          -->reduce() is a function that applies a given function to the elements of an iterable, reducing them to a single value. SYNTAX==> reduce(function, iterables)"
      ],
      "metadata": {
        "id": "n6DWH_ThT9JL"
      }
    },
    {
      "cell_type": "markdown",
      "source": [
        "Ques_11: __Using pen & Paper write the internal mechanism for sum operation using  reduce function on this given\n",
        "list:[47,11,42,13]?__\n",
        "\n",
        "![ques_11.jpg](data:image/jpeg;base64,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)"
      ],
      "metadata": {
        "id": "zeytQjs6Wf--"
      }
    },
    {
      "cell_type": "code",
      "source": [
        "# QUES 1:>> Write a Python function that takes a list of numbers as input and returns the sum of all even numbers in the list\n",
        "\n",
        "def even_num(input_list):\n",
        "    evensum = 0\n",
        "\n",
        "    for i in input_list:\n",
        "        if i%2 == 0:\n",
        "          evensum = evensum + i\n",
        "\n",
        "    return evensum\n",
        "\n",
        "\n",
        "\n",
        ""
      ],
      "metadata": {
        "id": "aPM_NGS-dwdm"
      },
      "execution_count": 16,
      "outputs": []
    },
    {
      "cell_type": "code",
      "source": [
        "even_num([11, 12, 7, 86, 100])\n"
      ],
      "metadata": {
        "colab": {
          "base_uri": "https://localhost:8080/"
        },
        "id": "lDBm8vuPeorU",
        "outputId": "91bca709-9c84-4213-a92c-6aa001b2ec1e"
      },
      "execution_count": 17,
      "outputs": [
        {
          "output_type": "execute_result",
          "data": {
            "text/plain": [
              "198"
            ]
          },
          "metadata": {},
          "execution_count": 17
        }
      ]
    },
    {
      "cell_type": "code",
      "source": [
        "# QUES 2:>> Create a Python function that accepts a string and returns the reverse of that string?\n",
        "\n",
        "def rev_string(input_a_string):\n",
        "   txt = input_a_string[::-1]\n",
        "   return txt"
      ],
      "metadata": {
        "id": "5yBLk2omiJTJ"
      },
      "execution_count": 18,
      "outputs": []
    },
    {
      "cell_type": "code",
      "source": [
        "rev_string(\"akash\")"
      ],
      "metadata": {
        "colab": {
          "base_uri": "https://localhost:8080/",
          "height": 36
        },
        "id": "6OeIbMxyiOkh",
        "outputId": "bd1aa311-f636-4b9b-cc4f-8141753b1395"
      },
      "execution_count": 19,
      "outputs": [
        {
          "output_type": "execute_result",
          "data": {
            "text/plain": [
              "'hsaka'"
            ],
            "application/vnd.google.colaboratory.intrinsic+json": {
              "type": "string"
            }
          },
          "metadata": {},
          "execution_count": 19
        }
      ]
    },
    {
      "cell_type": "code",
      "source": [
        "# QUES 3:>> Implement a Python function that takes a list of integers and returns a new list containing the squares of each number?\n",
        "\n",
        "def num_square(input_list):\n",
        "    new_list = []\n",
        "    for i in input_list:\n",
        "        i = i ** 2\n",
        "        new_list.append(i)\n",
        "    return new_list"
      ],
      "metadata": {
        "id": "0Bc7X71-il4u"
      },
      "execution_count": 20,
      "outputs": []
    },
    {
      "cell_type": "code",
      "source": [
        "num_square([2, 3, 4, 12])"
      ],
      "metadata": {
        "colab": {
          "base_uri": "https://localhost:8080/"
        },
        "id": "MnXz70WSi2Q9",
        "outputId": "c887af60-41d7-4922-e487-51e38b8e20d1"
      },
      "execution_count": 21,
      "outputs": [
        {
          "output_type": "execute_result",
          "data": {
            "text/plain": [
              "[4, 9, 16, 144]"
            ]
          },
          "metadata": {},
          "execution_count": 21
        }
      ]
    },
    {
      "cell_type": "code",
      "source": [
        "# QUES 4:>> Write a Python function that checks if a given number is prime or not from 1 to 200?\n",
        "\n",
        "def prime_or_not(input_number):\n",
        "    if (input_number > 0) & (input_number < 200):\n",
        "        if input_number%2 == 1:\n",
        "            print(f\"Provided number {input_number} is a prime no\")\n",
        "        else:\n",
        "            print(f\"Provided number {input_number} is not a prime no\")\n",
        "    else:\n",
        "        print(\"Please enter a number between 1 and 200\")"
      ],
      "metadata": {
        "id": "GN5XYeeNi87o"
      },
      "execution_count": 23,
      "outputs": []
    },
    {
      "cell_type": "code",
      "source": [
        "prime_or_not(199)\n",
        "prime_or_not(6)\n",
        "prime_or_not(11)"
      ],
      "metadata": {
        "colab": {
          "base_uri": "https://localhost:8080/"
        },
        "id": "-tG_N_PmjGzW",
        "outputId": "73b1b1f8-b363-4bc7-b56b-42a1ae169326"
      },
      "execution_count": 24,
      "outputs": [
        {
          "output_type": "stream",
          "name": "stdout",
          "text": [
            "Provided number 199 is a prime no\n",
            "Provided number 6 is not a prime no\n",
            "Provided number 11 is a prime no\n"
          ]
        }
      ]
    },
    {
      "cell_type": "code",
      "source": [
        "# QUES 5:>> Create an iterator class in Python that generates the Fibonacci sequence up to a specified number of terms?\n",
        "a = 0\n",
        "b = 1\n",
        "next_num = (a+b)\n",
        "lis = [0, 1]\n",
        "def fibo(n):\n",
        "\n",
        "    for i in range(1,n-1):\n",
        "       #print(i)\n",
        "       lis.append(lis[i-1] + lis[i])\n",
        "    print (lis)\n",
        ""
      ],
      "metadata": {
        "id": "JNXQJdHYjnKx"
      },
      "execution_count": 25,
      "outputs": []
    },
    {
      "cell_type": "code",
      "source": [
        "fibo(13)"
      ],
      "metadata": {
        "colab": {
          "base_uri": "https://localhost:8080/"
        },
        "id": "5bEo47qtjxNZ",
        "outputId": "6b0fdb22-e41b-4f97-e46a-ae8a2916ef2f"
      },
      "execution_count": 26,
      "outputs": [
        {
          "output_type": "stream",
          "name": "stdout",
          "text": [
            "[0, 1, 1, 2, 3, 5, 8, 13, 21, 34, 55, 89, 144]\n"
          ]
        }
      ]
    },
    {
      "cell_type": "code",
      "source": [
        "# QUES 6:>> Write a generator function in Python that yields the powers of 2 up to a given exponent?\n",
        "\n",
        "def power(input_num):\n",
        "   for i in range(input_num):\n",
        "     yield 2 ** i\n",
        "\n",
        "gen = power(5)"
      ],
      "metadata": {
        "id": "VfoiKa2HkcT_"
      },
      "execution_count": 27,
      "outputs": []
    },
    {
      "cell_type": "code",
      "source": [
        "next(gen)"
      ],
      "metadata": {
        "colab": {
          "base_uri": "https://localhost:8080/"
        },
        "id": "HVnEfMpSkjAz",
        "outputId": "fe4ea2e2-3ee5-4951-c64a-48fa0033c922"
      },
      "execution_count": 28,
      "outputs": [
        {
          "output_type": "execute_result",
          "data": {
            "text/plain": [
              "1"
            ]
          },
          "metadata": {},
          "execution_count": 28
        }
      ]
    },
    {
      "cell_type": "code",
      "source": [
        "next(gen)"
      ],
      "metadata": {
        "colab": {
          "base_uri": "https://localhost:8080/"
        },
        "id": "qHrknKZ1kmLQ",
        "outputId": "4ec31e86-5cbc-4d51-f201-e1fbeb79fe2c"
      },
      "execution_count": 29,
      "outputs": [
        {
          "output_type": "execute_result",
          "data": {
            "text/plain": [
              "2"
            ]
          },
          "metadata": {},
          "execution_count": 29
        }
      ]
    },
    {
      "cell_type": "code",
      "source": [
        "next(gen)"
      ],
      "metadata": {
        "colab": {
          "base_uri": "https://localhost:8080/"
        },
        "id": "gaHYe6CCkozi",
        "outputId": "0c297dfa-96bf-4fbc-dbeb-d687586f2ca7"
      },
      "execution_count": 30,
      "outputs": [
        {
          "output_type": "execute_result",
          "data": {
            "text/plain": [
              "4"
            ]
          },
          "metadata": {},
          "execution_count": 30
        }
      ]
    },
    {
      "cell_type": "code",
      "source": [
        "next(gen)"
      ],
      "metadata": {
        "colab": {
          "base_uri": "https://localhost:8080/"
        },
        "id": "a_EbrFCDkpAA",
        "outputId": "855ee68d-0a09-4529-b2d9-917bfefbcad0"
      },
      "execution_count": 31,
      "outputs": [
        {
          "output_type": "execute_result",
          "data": {
            "text/plain": [
              "8"
            ]
          },
          "metadata": {},
          "execution_count": 31
        }
      ]
    },
    {
      "cell_type": "code",
      "source": [
        "# QUES 7:>> Implement a generator function that reads a file line by line and yields each line as a string?\n",
        "def read_file():\n",
        "\n",
        " f = open('demo.txt', 'w')\n",
        " f.write(\"hello there i am akash. \\n I am currently learning ai. \\n Which is very intresting\")\n",
        " f.close()\n",
        "\n",
        " f = open('demo.txt', 'r')\n",
        " f.seek(0)\n",
        "\n",
        " yield print(f.read())\n",
        "\n",
        "gen = read_file()\n"
      ],
      "metadata": {
        "id": "DQxIH8dWkuvw"
      },
      "execution_count": 32,
      "outputs": []
    },
    {
      "cell_type": "code",
      "source": [
        "next(gen)"
      ],
      "metadata": {
        "colab": {
          "base_uri": "https://localhost:8080/"
        },
        "id": "Wsy4v108k9RL",
        "outputId": "02faf886-1010-400b-9f50-9eec077bbf68"
      },
      "execution_count": 33,
      "outputs": [
        {
          "output_type": "stream",
          "name": "stdout",
          "text": [
            "hello there i am akash. \n",
            " I am currently learning ai. \n",
            " Which is very intresting\n"
          ]
        }
      ]
    },
    {
      "cell_type": "code",
      "source": [
        "# QUES 8:>> Use a lambda function in Python to sort a list of tuples based on the second element of each tuple?\n",
        "\n",
        "lis = [('oranges' , 88), ('apple', 56), ('grapes', 96), ('peaches', 2)]\n",
        "sorted(lis, key = lambda lis: lis[1])"
      ],
      "metadata": {
        "colab": {
          "base_uri": "https://localhost:8080/"
        },
        "id": "C0I6OWx3lA_I",
        "outputId": "e3a230e8-402a-44db-ed10-55484487a9f2"
      },
      "execution_count": 34,
      "outputs": [
        {
          "output_type": "execute_result",
          "data": {
            "text/plain": [
              "[('peaches', 2), ('apple', 56), ('oranges', 88), ('grapes', 96)]"
            ]
          },
          "metadata": {},
          "execution_count": 34
        }
      ]
    },
    {
      "cell_type": "code",
      "source": [
        "#  QUES 9:>> Write a Python program that uses `map()` to convert a list of temperatures from Celsius to Fahrenheit?\n",
        "\n",
        "x = [27, 32, 56, 100]\n",
        "\n",
        "converter = lambda x: 32+x*9/5\n",
        "\n",
        "print(\"Temperature in fahrenheit is: \",list(map(converter, x)))"
      ],
      "metadata": {
        "colab": {
          "base_uri": "https://localhost:8080/"
        },
        "id": "aZcJSiDglOGX",
        "outputId": "490f3f8b-c335-45c4-f317-6a0ec8cda619"
      },
      "execution_count": 36,
      "outputs": [
        {
          "output_type": "stream",
          "name": "stdout",
          "text": [
            "Temperature in fahrenheit is:  [80.6, 89.6, 132.8, 212.0]\n"
          ]
        }
      ]
    },
    {
      "cell_type": "code",
      "source": [
        "#  QUES 10:>> Create a Python program that uses `filter()` to remove all the vowels from a given string?\n",
        "\n",
        "input_string = \"hi akash how are YOU\"\n",
        "x = input_string\n",
        "\n",
        "\n",
        "conso = lambda x:  x.replace(x, '') if x in 'aeiouAEIOU' else x\n",
        "\n",
        "print(list((filter(conso, x))))"
      ],
      "metadata": {
        "colab": {
          "base_uri": "https://localhost:8080/"
        },
        "id": "GZLnXsTrlkt3",
        "outputId": "fe3ee9a2-fa1b-4c17-90b3-9891718d4bc8"
      },
      "execution_count": 40,
      "outputs": [
        {
          "output_type": "stream",
          "name": "stdout",
          "text": [
            "['h', ' ', 'k', 's', 'h', ' ', 'h', 'w', ' ', 'r', ' ', 'Y']\n"
          ]
        }
      ]
    }
  ]
}